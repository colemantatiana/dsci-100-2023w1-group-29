{
 "cells": [
  {
   "cell_type": "markdown",
   "id": "45536814-dabc-4315-a42f-aee29fb42d30",
   "metadata": {},
   "source": [
    "# Cleveland Heart Disease Binary Classification"
   ]
  },
  {
   "cell_type": "markdown",
   "id": "cc05183e-c342-46da-b682-14171a986962",
   "metadata": {},
   "source": [
    "# Introduction"
   ]
  },
  {
   "cell_type": "markdown",
   "id": "e015300a-9eeb-4b30-941d-806f4a960382",
   "metadata": {
    "tags": []
   },
   "source": [
    "One of the leading causes of death within Canada and globally is heart disease (Finegold et al., 2013). Heart disease comprises a range of multifaceted conditions including heart failure and artery blockage (Sun et al., 2015). These conditions can be influenced by a myriad of factors such as genetics and lifestyle (Blue et al., 2012). In this project, we used binary classification (present or absent) to answer the question: What is the risk of heart disease based on the analysis of three key attributes - maximum heart rate achieved, age, and ST-wave depression induced by exercise?\n",
    "\n",
    "We chose these three variables for the following reasons. Higher maximum heart rates could possibly indicate better cardiovascular fitness. Age is a well-studied risk factor for heart disease; showing that the risk of heart disease occurrence increases with age. Lastly, the degree of ST-wave depression induced by exercise relative to rest is associated with a greater likelihood of heart disease as it reaches higher levels. \n",
    "\n",
    "By investigating the relationship between these variables and the presence of heart disease, we created a predictive model that can effectively identify individuals at risk of heart disease. This classification was conducted on the Cleveland heart disease data set which contains 303 entries across 14 different variables."
   ]
  },
  {
   "cell_type": "markdown",
   "id": "82c65931-084a-414a-a50d-3169be02327a",
   "metadata": {},
   "source": [
    "# Methods"
   ]
  },
  {
   "cell_type": "code",
   "execution_count": 10,
   "id": "e3e9ba10-be61-4d6d-942a-139000ea1646",
   "metadata": {
    "tags": []
   },
   "outputs": [
    {
     "ename": "ERROR",
     "evalue": "Error in library(kknn): there is no package called ‘kknn’\n",
     "output_type": "error",
     "traceback": [
      "Error in library(kknn): there is no package called ‘kknn’\nTraceback:\n",
      "1. library(kknn)"
     ]
    }
   ],
   "source": [
    "library(tidyverse)\n",
    "library(repr)\n",
    "library(readxl)\n",
    "library(tidymodels)\n",
    "library(dplyr)\n",
    "library(kknn)\n",
    "library(ggplot2)\n",
    "library(cowplot)"
   ]
  },
  {
   "cell_type": "markdown",
   "id": "cc5f9604-cc23-47ab-98cb-7674b0772b2a",
   "metadata": {},
   "source": [
    "Cleveland data set on heart disease was retrieved from the UCI machine learning repository. Data set was cleaned and wrangled to ensure the data is in a suitable format for further processing. Column 14 (Target) was renamed to “Diseased” to clarify if heart disease is present or absent in the diagonsis."
   ]
  },
  {
   "cell_type": "code",
   "execution_count": 5,
   "id": "0044a291-e41c-4fd8-b037-d1660c1f134e",
   "metadata": {
    "tags": []
   },
   "outputs": [
    {
     "name": "stderr",
     "output_type": "stream",
     "text": [
      "\u001b[1mRows: \u001b[22m\u001b[34m303\u001b[39m \u001b[1mColumns: \u001b[22m\u001b[34m14\u001b[39m\n",
      "\u001b[36m──\u001b[39m \u001b[1mColumn specification\u001b[22m \u001b[36m────────────────────────────────────────────────────────\u001b[39m\n",
      "\u001b[1mDelimiter:\u001b[22m \",\"\n",
      "\u001b[32mdbl\u001b[39m (14): age, sex, cp, trestbps, chol, fbs, restecg, thalach, exang, oldpea...\n",
      "\n",
      "\u001b[36mℹ\u001b[39m Use `spec()` to retrieve the full column specification for this data.\n",
      "\u001b[36mℹ\u001b[39m Specify the column types or set `show_col_types = FALSE` to quiet this message.\n"
     ]
    },
    {
     "data": {
      "text/html": [
       "<table class=\"dataframe\">\n",
       "<caption>A tibble: 2 × 1</caption>\n",
       "<thead>\n",
       "\t<tr><th scope=col>diseased</th></tr>\n",
       "\t<tr><th scope=col>&lt;fct&gt;</th></tr>\n",
       "</thead>\n",
       "<tbody>\n",
       "\t<tr><td>1</td></tr>\n",
       "\t<tr><td>0</td></tr>\n",
       "</tbody>\n",
       "</table>\n"
      ],
      "text/latex": [
       "A tibble: 2 × 1\n",
       "\\begin{tabular}{l}\n",
       " diseased\\\\\n",
       " <fct>\\\\\n",
       "\\hline\n",
       "\t 1\\\\\n",
       "\t 0\\\\\n",
       "\\end{tabular}\n"
      ],
      "text/markdown": [
       "\n",
       "A tibble: 2 × 1\n",
       "\n",
       "| diseased &lt;fct&gt; |\n",
       "|---|\n",
       "| 1 |\n",
       "| 0 |\n",
       "\n"
      ],
      "text/plain": [
       "  diseased\n",
       "1 1       \n",
       "2 0       "
      ]
     },
     "metadata": {},
     "output_type": "display_data"
    },
    {
     "data": {
      "text/html": [
       "<table class=\"dataframe\">\n",
       "<caption>A tibble: 1 × 14</caption>\n",
       "<thead>\n",
       "\t<tr><th scope=col>age</th><th scope=col>sex</th><th scope=col>cp</th><th scope=col>trestbps</th><th scope=col>chol</th><th scope=col>fbs</th><th scope=col>restecg</th><th scope=col>thalach</th><th scope=col>exang</th><th scope=col>oldpeak</th><th scope=col>slope</th><th scope=col>ca</th><th scope=col>thal</th><th scope=col>diseased</th></tr>\n",
       "\t<tr><th scope=col>&lt;int&gt;</th><th scope=col>&lt;int&gt;</th><th scope=col>&lt;int&gt;</th><th scope=col>&lt;int&gt;</th><th scope=col>&lt;int&gt;</th><th scope=col>&lt;int&gt;</th><th scope=col>&lt;int&gt;</th><th scope=col>&lt;int&gt;</th><th scope=col>&lt;int&gt;</th><th scope=col>&lt;int&gt;</th><th scope=col>&lt;int&gt;</th><th scope=col>&lt;int&gt;</th><th scope=col>&lt;int&gt;</th><th scope=col>&lt;int&gt;</th></tr>\n",
       "</thead>\n",
       "<tbody>\n",
       "\t<tr><td>0</td><td>0</td><td>0</td><td>0</td><td>0</td><td>0</td><td>0</td><td>0</td><td>0</td><td>0</td><td>0</td><td>0</td><td>0</td><td>0</td></tr>\n",
       "</tbody>\n",
       "</table>\n"
      ],
      "text/latex": [
       "A tibble: 1 × 14\n",
       "\\begin{tabular}{llllllllllllll}\n",
       " age & sex & cp & trestbps & chol & fbs & restecg & thalach & exang & oldpeak & slope & ca & thal & diseased\\\\\n",
       " <int> & <int> & <int> & <int> & <int> & <int> & <int> & <int> & <int> & <int> & <int> & <int> & <int> & <int>\\\\\n",
       "\\hline\n",
       "\t 0 & 0 & 0 & 0 & 0 & 0 & 0 & 0 & 0 & 0 & 0 & 0 & 0 & 0\\\\\n",
       "\\end{tabular}\n"
      ],
      "text/markdown": [
       "\n",
       "A tibble: 1 × 14\n",
       "\n",
       "| age &lt;int&gt; | sex &lt;int&gt; | cp &lt;int&gt; | trestbps &lt;int&gt; | chol &lt;int&gt; | fbs &lt;int&gt; | restecg &lt;int&gt; | thalach &lt;int&gt; | exang &lt;int&gt; | oldpeak &lt;int&gt; | slope &lt;int&gt; | ca &lt;int&gt; | thal &lt;int&gt; | diseased &lt;int&gt; |\n",
       "|---|---|---|---|---|---|---|---|---|---|---|---|---|---|\n",
       "| 0 | 0 | 0 | 0 | 0 | 0 | 0 | 0 | 0 | 0 | 0 | 0 | 0 | 0 |\n",
       "\n"
      ],
      "text/plain": [
       "  age sex cp trestbps chol fbs restecg thalach exang oldpeak slope ca thal\n",
       "1 0   0   0  0        0    0   0       0       0     0       0     0  0   \n",
       "  diseased\n",
       "1 0       "
      ]
     },
     "metadata": {},
     "output_type": "display_data"
    },
    {
     "name": "stdout",
     "output_type": "stream",
     "text": [
      "Rows: 303\n",
      "Columns: 14\n",
      "$ age      \u001b[3m\u001b[90m<dbl>\u001b[39m\u001b[23m 63, 37, 41, 56, 57, 57, 56, 44, 52, 57, 54, 48, 49, 64, 58, 5…\n",
      "$ sex      \u001b[3m\u001b[90m<dbl>\u001b[39m\u001b[23m 1, 1, 0, 1, 0, 1, 0, 1, 1, 1, 1, 0, 1, 1, 0, 0, 0, 0, 1, 0, 1…\n",
      "$ cp       \u001b[3m\u001b[90m<dbl>\u001b[39m\u001b[23m 3, 2, 1, 1, 0, 0, 1, 1, 2, 2, 0, 2, 1, 3, 3, 2, 2, 3, 0, 3, 0…\n",
      "$ trestbps \u001b[3m\u001b[90m<dbl>\u001b[39m\u001b[23m 145, 130, 130, 120, 120, 140, 140, 120, 172, 150, 140, 130, 1…\n",
      "$ chol     \u001b[3m\u001b[90m<dbl>\u001b[39m\u001b[23m 233, 250, 204, 236, 354, 192, 294, 263, 199, 168, 239, 275, 2…\n",
      "$ fbs      \u001b[3m\u001b[90m<dbl>\u001b[39m\u001b[23m 1, 0, 0, 0, 0, 0, 0, 0, 1, 0, 0, 0, 0, 0, 1, 0, 0, 0, 0, 0, 0…\n",
      "$ restecg  \u001b[3m\u001b[90m<dbl>\u001b[39m\u001b[23m 0, 1, 0, 1, 1, 1, 0, 1, 1, 1, 1, 1, 1, 0, 0, 1, 1, 1, 1, 1, 1…\n",
      "$ thalach  \u001b[3m\u001b[90m<dbl>\u001b[39m\u001b[23m 150, 187, 172, 178, 163, 148, 153, 173, 162, 174, 160, 139, 1…\n",
      "$ exang    \u001b[3m\u001b[90m<dbl>\u001b[39m\u001b[23m 0, 0, 0, 0, 1, 0, 0, 0, 0, 0, 0, 0, 0, 1, 0, 0, 0, 0, 0, 0, 0…\n",
      "$ oldpeak  \u001b[3m\u001b[90m<dbl>\u001b[39m\u001b[23m 2.3, 3.5, 1.4, 0.8, 0.6, 0.4, 1.3, 0.0, 0.5, 1.6, 1.2, 0.2, 0…\n",
      "$ slope    \u001b[3m\u001b[90m<dbl>\u001b[39m\u001b[23m 0, 0, 2, 2, 2, 1, 1, 2, 2, 2, 2, 2, 2, 1, 2, 1, 2, 0, 2, 2, 1…\n",
      "$ ca       \u001b[3m\u001b[90m<dbl>\u001b[39m\u001b[23m 0, 0, 0, 0, 0, 0, 0, 0, 0, 0, 0, 0, 0, 0, 0, 0, 0, 0, 0, 2, 0…\n",
      "$ thal     \u001b[3m\u001b[90m<dbl>\u001b[39m\u001b[23m 1, 2, 2, 2, 2, 1, 2, 3, 3, 2, 2, 2, 2, 2, 2, 2, 2, 2, 2, 2, 3…\n",
      "$ diseased \u001b[3m\u001b[90m<fct>\u001b[39m\u001b[23m 1, 1, 1, 1, 1, 1, 1, 1, 1, 1, 1, 1, 1, 1, 1, 1, 1, 1, 1, 1, 1…\n"
     ]
    },
    {
     "data": {
      "text/plain": [
       "      age             sex               cp           trestbps    \n",
       " Min.   :29.00   Min.   :0.0000   Min.   :0.000   Min.   : 94.0  \n",
       " 1st Qu.:47.50   1st Qu.:0.0000   1st Qu.:0.000   1st Qu.:120.0  \n",
       " Median :55.00   Median :1.0000   Median :1.000   Median :130.0  \n",
       " Mean   :54.37   Mean   :0.6832   Mean   :0.967   Mean   :131.6  \n",
       " 3rd Qu.:61.00   3rd Qu.:1.0000   3rd Qu.:2.000   3rd Qu.:140.0  \n",
       " Max.   :77.00   Max.   :1.0000   Max.   :3.000   Max.   :200.0  \n",
       "      chol            fbs            restecg          thalach     \n",
       " Min.   :126.0   Min.   :0.0000   Min.   :0.0000   Min.   : 71.0  \n",
       " 1st Qu.:211.0   1st Qu.:0.0000   1st Qu.:0.0000   1st Qu.:133.5  \n",
       " Median :240.0   Median :0.0000   Median :1.0000   Median :153.0  \n",
       " Mean   :246.3   Mean   :0.1485   Mean   :0.5281   Mean   :149.6  \n",
       " 3rd Qu.:274.5   3rd Qu.:0.0000   3rd Qu.:1.0000   3rd Qu.:166.0  \n",
       " Max.   :564.0   Max.   :1.0000   Max.   :2.0000   Max.   :202.0  \n",
       "     exang           oldpeak         slope             ca        \n",
       " Min.   :0.0000   Min.   :0.00   Min.   :0.000   Min.   :0.0000  \n",
       " 1st Qu.:0.0000   1st Qu.:0.00   1st Qu.:1.000   1st Qu.:0.0000  \n",
       " Median :0.0000   Median :0.80   Median :1.000   Median :0.0000  \n",
       " Mean   :0.3267   Mean   :1.04   Mean   :1.399   Mean   :0.7294  \n",
       " 3rd Qu.:1.0000   3rd Qu.:1.60   3rd Qu.:2.000   3rd Qu.:1.0000  \n",
       " Max.   :1.0000   Max.   :6.20   Max.   :2.000   Max.   :4.0000  \n",
       "      thal       diseased\n",
       " Min.   :0.000   0:138   \n",
       " 1st Qu.:2.000   1:165   \n",
       " Median :2.000           \n",
       " Mean   :2.314           \n",
       " 3rd Qu.:3.000           \n",
       " Max.   :3.000           "
      ]
     },
     "metadata": {},
     "output_type": "display_data"
    }
   ],
   "source": [
    "#Reading dataset, includes column renaming\n",
    "set.seed(29)\n",
    "file_path <- \"https://github.com/colemantatiana/dsci-100-2023w1-group-29/raw/main/heart.csv\"\n",
    "heart_data <- read_delim(file_path, col_names = TRUE)\n",
    "\n",
    "#Conversion of \"target\" to factor\n",
    "heart_data <- mutate(heart_data, target = as.factor(target))\n",
    "\n",
    "#Renaming\n",
    "colnames(heart_data)[14] = \"diseased\"\n",
    "    heart_data |> distinct(diseased)\n",
    "\n",
    "# Check for missing values.\n",
    "missing <- heart_data |> \n",
    "  summarise(across(everything(), ~ sum(is.na(.x))))\n",
    "missing \n",
    "#No missing data \n",
    "\n",
    "# Overview of the data\n",
    "glimpse(heart_data)\n",
    "summary(heart_data)"
   ]
  },
  {
   "cell_type": "markdown",
   "id": "bdb4efab-4908-408e-8559-013e81d28970",
   "metadata": {},
   "source": [
    "Forward selection is performed below. Data was split into a training set and test set, using only the training set to pick the predictors. From the training data, we identified three relevant predictors for our analysis: (1) thalach (maximum heart rate achieved) (2) age, and (3) old peak (ST-wave depression induced by exercise). "
   ]
  },
  {
   "cell_type": "code",
   "execution_count": 14,
   "id": "76befcc2-b1f0-4fb1-aea0-edfe7dda74d0",
   "metadata": {
    "tags": []
   },
   "outputs": [
    {
     "name": "stdout",
     "output_type": "stream",
     "text": [
      "Rows: 226\n",
      "Columns: 14\n",
      "$ age      \u001b[3m\u001b[90m<dbl>\u001b[39m\u001b[23m 67, 67, 53, 58, 60, 60, 64, 43, 57, 55, 65, 50, 44, 60, 54, 5…\n",
      "$ sex      \u001b[3m\u001b[90m<dbl>\u001b[39m\u001b[23m 1, 1, 1, 1, 1, 1, 1, 1, 1, 1, 0, 1, 1, 1, 1, 1, 0, 1, 1, 1, 1…\n",
      "$ cp       \u001b[3m\u001b[90m<dbl>\u001b[39m\u001b[23m 0, 0, 0, 2, 0, 0, 2, 0, 0, 0, 0, 0, 0, 0, 0, 2, 0, 0, 0, 2, 0…\n",
      "$ trestbps \u001b[3m\u001b[90m<dbl>\u001b[39m\u001b[23m 160, 120, 140, 132, 130, 117, 140, 120, 150, 132, 150, 150, 1…\n",
      "$ chol     \u001b[3m\u001b[90m<dbl>\u001b[39m\u001b[23m 286, 229, 203, 224, 206, 230, 335, 177, 276, 353, 225, 243, 2…\n",
      "$ fbs      \u001b[3m\u001b[90m<dbl>\u001b[39m\u001b[23m 0, 0, 1, 0, 0, 1, 0, 0, 0, 0, 0, 0, 0, 0, 0, 0, 0, 0, 0, 0, 0…\n",
      "$ restecg  \u001b[3m\u001b[90m<dbl>\u001b[39m\u001b[23m 0, 0, 0, 0, 0, 1, 1, 0, 0, 1, 0, 0, 0, 1, 0, 1, 1, 0, 0, 0, 0…\n",
      "$ thalach  \u001b[3m\u001b[90m<dbl>\u001b[39m\u001b[23m 108, 129, 155, 173, 132, 160, 158, 120, 112, 132, 114, 128, 1…\n",
      "$ exang    \u001b[3m\u001b[90m<dbl>\u001b[39m\u001b[23m 1, 1, 1, 0, 1, 1, 0, 1, 1, 1, 0, 0, 0, 1, 1, 0, 1, 1, 1, 0, 1…\n",
      "$ oldpeak  \u001b[3m\u001b[90m<dbl>\u001b[39m\u001b[23m 1.5, 2.6, 3.1, 3.2, 2.4, 1.4, 0.0, 2.5, 0.6, 1.2, 1.0, 2.6, 0…\n",
      "$ slope    \u001b[3m\u001b[90m<dbl>\u001b[39m\u001b[23m 1, 1, 0, 2, 1, 2, 2, 1, 1, 1, 1, 1, 2, 2, 1, 1, 1, 1, 1, 1, 0…\n",
      "$ ca       \u001b[3m\u001b[90m<dbl>\u001b[39m\u001b[23m 3, 2, 0, 2, 2, 2, 0, 0, 1, 1, 3, 0, 1, 1, 1, 1, 0, 3, 2, 0, 0…\n",
      "$ thal     \u001b[3m\u001b[90m<dbl>\u001b[39m\u001b[23m 2, 3, 3, 3, 3, 3, 2, 3, 1, 3, 3, 3, 2, 3, 3, 3, 3, 3, 3, 2, 3…\n",
      "$ diseased \u001b[3m\u001b[90m<fct>\u001b[39m\u001b[23m 0, 0, 0, 0, 0, 0, 0, 0, 0, 0, 0, 0, 0, 0, 0, 0, 0, 0, 0, 0, 0…\n",
      "Rows: 77\n",
      "Columns: 14\n",
      "$ age      \u001b[3m\u001b[90m<dbl>\u001b[39m\u001b[23m 63, 44, 52, 54, 48, 49, 64, 66, 69, 59, 42, 51, 54, 65, 39, 4…\n",
      "$ sex      \u001b[3m\u001b[90m<dbl>\u001b[39m\u001b[23m 1, 1, 1, 1, 0, 1, 1, 0, 0, 1, 1, 1, 1, 0, 1, 1, 0, 1, 1, 0, 1…\n",
      "$ cp       \u001b[3m\u001b[90m<dbl>\u001b[39m\u001b[23m 3, 1, 2, 0, 2, 1, 3, 3, 3, 0, 0, 2, 2, 2, 2, 2, 2, 0, 2, 0, 3…\n",
      "$ trestbps \u001b[3m\u001b[90m<dbl>\u001b[39m\u001b[23m 145, 120, 172, 140, 130, 130, 110, 150, 140, 135, 140, 110, 1…\n",
      "$ chol     \u001b[3m\u001b[90m<dbl>\u001b[39m\u001b[23m 233, 263, 199, 239, 275, 266, 211, 226, 239, 234, 226, 175, 2…\n",
      "$ fbs      \u001b[3m\u001b[90m<dbl>\u001b[39m\u001b[23m 1, 0, 1, 0, 0, 0, 0, 0, 0, 0, 0, 0, 0, 0, 0, 0, 0, 0, 0, 0, 0…\n",
      "$ restecg  \u001b[3m\u001b[90m<dbl>\u001b[39m\u001b[23m 0, 1, 1, 1, 1, 1, 0, 1, 1, 1, 1, 1, 0, 1, 0, 0, 0, 0, 1, 0, 0…\n",
      "$ thalach  \u001b[3m\u001b[90m<dbl>\u001b[39m\u001b[23m 150, 173, 162, 160, 139, 171, 144, 114, 151, 161, 178, 123, 1…\n",
      "$ exang    \u001b[3m\u001b[90m<dbl>\u001b[39m\u001b[23m 0, 0, 0, 0, 0, 0, 1, 0, 0, 0, 0, 0, 0, 0, 0, 0, 0, 0, 0, 0, 0…\n",
      "$ oldpeak  \u001b[3m\u001b[90m<dbl>\u001b[39m\u001b[23m 2.3, 0.0, 0.5, 1.2, 0.2, 0.6, 1.8, 2.6, 1.8, 0.5, 0.0, 0.6, 1…\n",
      "$ slope    \u001b[3m\u001b[90m<dbl>\u001b[39m\u001b[23m 0, 2, 2, 2, 2, 2, 1, 0, 2, 1, 2, 2, 2, 2, 2, 2, 2, 1, 1, 2, 1…\n",
      "$ ca       \u001b[3m\u001b[90m<dbl>\u001b[39m\u001b[23m 0, 0, 0, 0, 0, 0, 0, 0, 2, 0, 0, 0, 0, 0, 0, 0, 0, 0, 3, 1, 0…\n",
      "$ thal     \u001b[3m\u001b[90m<dbl>\u001b[39m\u001b[23m 1, 3, 3, 2, 2, 2, 2, 2, 2, 3, 2, 2, 3, 2, 2, 2, 0, 2, 3, 2, 1…\n",
      "$ diseased \u001b[3m\u001b[90m<fct>\u001b[39m\u001b[23m 1, 1, 1, 1, 1, 1, 1, 1, 1, 1, 1, 1, 1, 1, 1, 1, 1, 1, 1, 1, 1…\n"
     ]
    },
    {
     "ename": "ERROR",
     "evalue": "\u001b[1m\u001b[33mError\u001b[39m in `check_installs()`:\u001b[22m\n\u001b[33m!\u001b[39m Some package installs are required: \n\u001b[36m•\u001b[39m 'kknn', 'kknn'\n",
     "output_type": "error",
     "traceback": [
      "\u001b[1m\u001b[33mError\u001b[39m in `check_installs()`:\u001b[22m\n\u001b[33m!\u001b[39m Some package installs are required: \n\u001b[36m•\u001b[39m 'kknn', 'kknn'\nTraceback:\n",
      "1. summarize(filter(collect_metrics(tune_grid(add_model(add_recipe(workflow(), \n .     heart_recipe), knn_spec), resamples = heart_vfold, grid = 10)), \n .     .metric == \"accuracy\"), mx = max(mean))",
      "2. filter(collect_metrics(tune_grid(add_model(add_recipe(workflow(), \n .     heart_recipe), knn_spec), resamples = heart_vfold, grid = 10)), \n .     .metric == \"accuracy\")",
      "3. collect_metrics(tune_grid(add_model(add_recipe(workflow(), heart_recipe), \n .     knn_spec), resamples = heart_vfold, grid = 10))",
      "4. tune_grid(add_model(add_recipe(workflow(), heart_recipe), knn_spec), \n .     resamples = heart_vfold, grid = 10)",
      "5. tune_grid.workflow(add_model(add_recipe(workflow(), heart_recipe), \n .     knn_spec), resamples = heart_vfold, grid = 10)",
      "6. tune_grid_workflow(object, resamples = resamples, grid = grid, \n .     metrics = metrics, pset = param_info, control = control)",
      "7. check_workflow(workflow, pset = pset)",
      "8. check_installs(hardhat::extract_spec_parsnip(x))",
      "9. rlang::abort(c(\"Some package installs are required: \", paste0(\"'\", \n .     deps[!is_inst], \"'\", collapse = \", \")))",
      "10. signal_abort(cnd, .file)"
     ]
    }
   ],
   "source": [
    "# Create training (75%) and testing (25%) data split \n",
    "heart_split <- initial_split(heart_data, prop = 0.75, strata = diseased)  \n",
    "heart_train <- training(heart_split)   \n",
    "heart_test <- testing(heart_split)\n",
    "\n",
    "# View training and testing sets\n",
    "glimpse(heart_train)\n",
    "glimpse(heart_test)\n",
    "\n",
    "#Variable selection was performed on five relevant variables \n",
    "\n",
    "names <- colnames(heart_train |> select(age,trestbps, chol, thalach, oldpeak))\n",
    "\n",
    "accuracies <- tibble(size = integer(), \n",
    "                     model_string = character(), \n",
    "                     accuracy = numeric())\n",
    "\n",
    "knn_spec <- nearest_neighbor(weight_func = \"rectangular\", \n",
    "                             neighbors = tune()) |>\n",
    "     set_engine(\"kknn\") |>\n",
    "     set_mode(\"classification\")\n",
    "\n",
    "#Cross validation to generate model accuracy \n",
    "heart_vfold <- vfold_cv(heart_train, v = 5, strata = diseased)\n",
    "\n",
    "\n",
    "n_total <- length(names)\n",
    "selected <- c()\n",
    "for (i in 1:n_total) {\n",
    "    accs <- list()\n",
    "    models <- list()\n",
    "    for (j in 1:length(names)) {\n",
    "        preds_new <- c(selected, names[[j]])\n",
    "        model_string <- paste(\"diseased\", \"~\", paste(preds_new, collapse=\"+\"))\n",
    "        heart_recipe <- recipe(as.formula(model_string), \n",
    "                                data = heart_train) |>\n",
    "                          step_scale(all_predictors()) |>\n",
    "                          step_center(all_predictors())\n",
    "        acc <- workflow() |>\n",
    "          add_recipe(heart_recipe) |>\n",
    "          add_model(knn_spec) |>\n",
    "          tune_grid(resamples = heart_vfold, grid = 10) |>\n",
    "          collect_metrics() |>\n",
    "          filter(.metric == \"accuracy\") |>\n",
    "          summarize(mx = max(mean))\n",
    "        acc <- acc$mx |> unlist()\n",
    "        accs[[j]] <- acc\n",
    "        models[[j]] <- model_string\n",
    "    }\n",
    "    jstar <- which.max(unlist(accs))\n",
    "    accuracies <- accuracies |> \n",
    "      add_row(size = i, \n",
    "              model_string = models[[jstar]], \n",
    "              accuracy = accs[[jstar]])\n",
    "    selected <- c(selected, names[[jstar]])\n",
    "    names <- names[-jstar]\n",
    "}\n",
    "accuracies\n",
    "#Three variables had highest accuracy, so therefore we selected. "
   ]
  },
  {
   "cell_type": "markdown",
   "id": "11ed23f1-a658-4182-9310-85456099d0fb",
   "metadata": {},
   "source": [
    "For our initial visualization (Figure 1), we used 2 scatter plots to show two of our predictor variables as a function of the third: age. "
   ]
  },
  {
   "cell_type": "code",
   "execution_count": 13,
   "id": "9619f568-f7f4-4567-8fa9-9be2ec200bbf",
   "metadata": {
    "tags": []
   },
   "outputs": [
    {
     "ename": "ERROR",
     "evalue": "Error in plot_grid(heart_plot1, heart_plot2, ncol = 2, nrow = 1, rel_widths = c(4, : could not find function \"plot_grid\"\n",
     "output_type": "error",
     "traceback": [
      "Error in plot_grid(heart_plot1, heart_plot2, ncol = 2, nrow = 1, rel_widths = c(4, : could not find function \"plot_grid\"\nTraceback:\n"
     ]
    }
   ],
   "source": [
    "#Initial visualization was conducted \n",
    "heart_plot1 <- heart_train |>\n",
    "  ggplot(aes(x = age, \n",
    "             y = thalach, \n",
    "             colour = diseased)) +\n",
    "  labs(x = \"Age (years)\", y = \"Maximum Heart Rate Achieved (beats per minute)\") +\n",
    "  theme(legend.position = \"none\") +\n",
    "  geom_point() +\n",
    "  ggtitle(\"Visualization of Predictor Variables: Age and Thalach\") +\n",
    "  scale_color_manual(values = c(\"#f8766d\", \"#00b0f6\"))\n",
    "\n",
    "heart_plot2 <- heart_train |> ggplot(aes(x = age, y = oldpeak, colour = diseased)) + \n",
    "    geom_point() + \n",
    "    ggtitle(\"Age and Oldpeak\") + \n",
    "    labs(x = \"Age (years)\", y = \"ST Depression Induced by Exercise (relative to rest)\", colour = \"Diagnosis\") +\n",
    "    scale_color_manual(labels = c(\"Diseased\", \"Healthy\"), values = c(\"#f8766d\", \"#00b0f6\"))\n",
    "\n",
    "options(repr.plot.height = 7, repr.plot.width = 12)\n",
    "heart_plots <- plot_grid(heart_plot1, heart_plot2,\n",
    "                         ncol = 2, nrow = 1, \n",
    "                         rel_widths = c(4,5))\n",
    "heart_plots"
   ]
  },
  {
   "cell_type": "markdown",
   "id": "4eebff14-6ac7-4725-9c3f-cff8e19af221",
   "metadata": {},
   "source": [
    "**Figure 1. Scatter plots to visualize our predictor variables: Age and Thalach, Age and Old peak**"
   ]
  },
  {
   "cell_type": "markdown",
   "id": "a031e2d6-d3c0-4b5a-8757-90e2e9c3cd92",
   "metadata": {},
   "source": [
    "Next, we choose the number of neighbors, K, for the model with our three variables (risk factors). The best number of neighbors was decided by using cross-validation to calculate an accuracy for each value of K, and then the value of K with the best accuracy was picked. Accuracy vs K was plotted as shown in Figure 2. below. K = 21 provides the highest accuracy and was therefore selected."
   ]
  },
  {
   "cell_type": "code",
   "execution_count": 18,
   "id": "ac6424ef-df84-458c-9c90-238d0c23a9fe",
   "metadata": {
    "tags": []
   },
   "outputs": [
    {
     "ename": "ERROR",
     "evalue": "\u001b[1m\u001b[33mError\u001b[39m in `check_installs()`:\u001b[22m\n\u001b[33m!\u001b[39m Some package installs are required: \n\u001b[36m•\u001b[39m 'kknn', 'kknn'\n",
     "output_type": "error",
     "traceback": [
      "\u001b[1m\u001b[33mError\u001b[39m in `check_installs()`:\u001b[22m\n\u001b[33m!\u001b[39m Some package installs are required: \n\u001b[36m•\u001b[39m 'kknn', 'kknn'\nTraceback:\n",
      "1. collect_metrics(tune_grid(add_model(add_recipe(workflow(), heart_recipe), \n .     knn_spec), resamples = heart_vfold, grid = k_vals))",
      "2. tune_grid(add_model(add_recipe(workflow(), heart_recipe), knn_spec), \n .     resamples = heart_vfold, grid = k_vals)",
      "3. tune_grid.workflow(add_model(add_recipe(workflow(), heart_recipe), \n .     knn_spec), resamples = heart_vfold, grid = k_vals)",
      "4. tune_grid_workflow(object, resamples = resamples, grid = grid, \n .     metrics = metrics, pset = param_info, control = control)",
      "5. check_workflow(workflow, pset = pset)",
      "6. check_installs(hardhat::extract_spec_parsnip(x))",
      "7. rlang::abort(c(\"Some package installs are required: \", paste0(\"'\", \n .     deps[!is_inst], \"'\", collapse = \", \")))",
      "8. signal_abort(cnd, .file)"
     ]
    }
   ],
   "source": [
    "k_vals <- tibble(neighbors = seq(from = 1, to = 100, by = 5))\n",
    "\n",
    "knn_results <- workflow() |>\n",
    "  add_recipe(heart_recipe) |>\n",
    "  add_model(knn_spec) |>\n",
    "  tune_grid(resamples = heart_vfold, grid = k_vals) |>\n",
    "  collect_metrics() \n",
    "\n",
    "k_accuracies <- knn_results |>\n",
    "  filter(.metric == \"accuracy\")\n",
    "\n",
    "#Accuracy vs K plot generated\n",
    "accuracy_vs_k <- ggplot(k_accuracies, aes(x = neighbors, y = mean)) +\n",
    "  geom_point() +\n",
    "  geom_line() +\n",
    "  labs(x = \"Neighbors\", y = \"Accuracy Estimate\") + \n",
    "  theme(text = element_text(size = 12))\n",
    "\n",
    "accuracy_vs_k"
   ]
  },
  {
   "cell_type": "markdown",
   "id": "231a1122-c2b5-451a-9bfe-9890418a33aa",
   "metadata": {},
   "source": [
    "**Figure 2. Number of Neighbors vs Accuracy Estimate**"
   ]
  },
  {
   "cell_type": "markdown",
   "id": "94ad2de6-aa45-4372-947b-718252b29d0b",
   "metadata": {},
   "source": [
    "We can now build our final model using k = 21. "
   ]
  },
  {
   "cell_type": "code",
   "execution_count": 19,
   "id": "9a70c382-64c4-4c1b-9875-b586e9a7cadd",
   "metadata": {
    "tags": []
   },
   "outputs": [
    {
     "ename": "ERROR",
     "evalue": "\u001b[1m\u001b[33mError\u001b[39m in `check_installs()`:\u001b[22m\n\u001b[33m!\u001b[39m This engine requires some package installs: 'kknn'\n",
     "output_type": "error",
     "traceback": [
      "\u001b[1m\u001b[33mError\u001b[39m in `check_installs()`:\u001b[22m\n\u001b[33m!\u001b[39m This engine requires some package installs: 'kknn'\nTraceback:\n",
      "1. fit(add_model(add_recipe(workflow(), heart_recipe), knn_spec), \n .     data = heart_train)",
      "2. fit.workflow(add_model(add_recipe(workflow(), heart_recipe), \n .     knn_spec), data = heart_train)",
      "3. .fit_model(workflow, control)",
      "4. fit(action_model, workflow = workflow, control = control)",
      "5. fit.action_model(action_model, workflow = workflow, control = control)",
      "6. fit_from_xy(spec, mold, case_weights, control_parsnip)",
      "7. fit_xy(spec, x = mold$predictors, y = mold$outcomes, case_weights = case_weights, \n .     control = control_parsnip)",
      "8. fit_xy.model_spec(spec, x = mold$predictors, y = mold$outcomes, \n .     case_weights = case_weights, control = control_parsnip)",
      "9. check_installs(object)",
      "10. rlang::abort(glue::glue(\"This engine requires some package installs: \", \n  .     glue::glue_collapse(glue::glue(\"'{missing_pkg}'\"), sep = \", \")))",
      "11. signal_abort(cnd, .file)"
     ]
    }
   ],
   "source": [
    "knn_spec <- nearest_neighbor(weight_func = \"rectangular\", neighbors = 21) |>\n",
    "  set_engine(\"kknn\") |>\n",
    "  set_mode(\"classification\")\n",
    "\n",
    "heart_recipe <- recipe(diseased ~ thalach+oldpeak+age, data = heart_train) |>\n",
    "  step_scale(all_predictors()) |>\n",
    "  step_center(all_predictors())\n",
    "\n",
    "knn_fit <- workflow() |>\n",
    "  add_recipe(heart_recipe) |>\n",
    "  add_model(knn_spec) |>\n",
    "  fit(data = heart_train)\n",
    "\n",
    "knn_fit"
   ]
  },
  {
   "cell_type": "markdown",
   "id": "6d00375e-5b9d-4112-b70d-9cec17d563fc",
   "metadata": {},
   "source": [
    "The performance of our model was evaluated on the test data set. Here we predict the labels in the test set and assess the classifier’s performance by examining accuracy (using the metrics function). Looking at the .estimate variable, the estimated accuracy of the classifier on the test data was 73%. "
   ]
  },
  {
   "cell_type": "code",
   "execution_count": 17,
   "id": "0b3cf1ea-13a3-45e3-accb-1958243819e4",
   "metadata": {
    "tags": []
   },
   "outputs": [
    {
     "ename": "ERROR",
     "evalue": "Error in predict(knn_fit, heart_test): object 'knn_fit' not found\n",
     "output_type": "error",
     "traceback": [
      "Error in predict(knn_fit, heart_test): object 'knn_fit' not found\nTraceback:\n",
      "1. bind_cols(predict(knn_fit, heart_test), heart_test)",
      "2. list2(...)",
      "3. predict(knn_fit, heart_test)"
     ]
    }
   ],
   "source": [
    "heart_test_predictions <- predict(knn_fit, heart_test) |>\n",
    "  bind_cols(heart_test)\n",
    "heart_test_predictions"
   ]
  },
  {
   "cell_type": "code",
   "execution_count": 9,
   "id": "4ae2e7b3-fb06-4bee-b9c3-5ee6c6d97003",
   "metadata": {
    "tags": []
   },
   "outputs": [
    {
     "data": {
      "text/html": [
       "<table class=\"dataframe\">\n",
       "<caption>A tibble: 1 × 3</caption>\n",
       "<thead>\n",
       "\t<tr><th scope=col>.metric</th><th scope=col>.estimator</th><th scope=col>.estimate</th></tr>\n",
       "\t<tr><th scope=col>&lt;chr&gt;</th><th scope=col>&lt;chr&gt;</th><th scope=col>&lt;dbl&gt;</th></tr>\n",
       "</thead>\n",
       "<tbody>\n",
       "\t<tr><td>accuracy</td><td>binary</td><td>0.7272727</td></tr>\n",
       "</tbody>\n",
       "</table>\n"
      ],
      "text/latex": [
       "A tibble: 1 × 3\n",
       "\\begin{tabular}{lll}\n",
       " .metric & .estimator & .estimate\\\\\n",
       " <chr> & <chr> & <dbl>\\\\\n",
       "\\hline\n",
       "\t accuracy & binary & 0.7272727\\\\\n",
       "\\end{tabular}\n"
      ],
      "text/markdown": [
       "\n",
       "A tibble: 1 × 3\n",
       "\n",
       "| .metric &lt;chr&gt; | .estimator &lt;chr&gt; | .estimate &lt;dbl&gt; |\n",
       "|---|---|---|\n",
       "| accuracy | binary | 0.7272727 |\n",
       "\n"
      ],
      "text/plain": [
       "  .metric  .estimator .estimate\n",
       "1 accuracy binary     0.7272727"
      ]
     },
     "metadata": {},
     "output_type": "display_data"
    },
    {
     "data": {
      "text/html": [
       "<table class=\"dataframe\">\n",
       "<caption>A tibble: 77 × 15</caption>\n",
       "<thead>\n",
       "\t<tr><th scope=col>.pred_class</th><th scope=col>age</th><th scope=col>sex</th><th scope=col>cp</th><th scope=col>trestbps</th><th scope=col>chol</th><th scope=col>fbs</th><th scope=col>restecg</th><th scope=col>thalach</th><th scope=col>exang</th><th scope=col>oldpeak</th><th scope=col>slope</th><th scope=col>ca</th><th scope=col>thal</th><th scope=col>diseased</th></tr>\n",
       "\t<tr><th scope=col>&lt;fct&gt;</th><th scope=col>&lt;dbl&gt;</th><th scope=col>&lt;dbl&gt;</th><th scope=col>&lt;dbl&gt;</th><th scope=col>&lt;dbl&gt;</th><th scope=col>&lt;dbl&gt;</th><th scope=col>&lt;dbl&gt;</th><th scope=col>&lt;dbl&gt;</th><th scope=col>&lt;dbl&gt;</th><th scope=col>&lt;dbl&gt;</th><th scope=col>&lt;dbl&gt;</th><th scope=col>&lt;dbl&gt;</th><th scope=col>&lt;dbl&gt;</th><th scope=col>&lt;dbl&gt;</th><th scope=col>&lt;fct&gt;</th></tr>\n",
       "</thead>\n",
       "<tbody>\n",
       "\t<tr><td>1</td><td>56</td><td>1</td><td>1</td><td>120</td><td>236</td><td>0</td><td>1</td><td>178</td><td>0</td><td>0.8</td><td>2</td><td>0</td><td>2</td><td>1</td></tr>\n",
       "\t<tr><td>1</td><td>44</td><td>1</td><td>1</td><td>120</td><td>263</td><td>0</td><td>1</td><td>173</td><td>0</td><td>0.0</td><td>2</td><td>0</td><td>3</td><td>1</td></tr>\n",
       "\t<tr><td>1</td><td>52</td><td>1</td><td>2</td><td>172</td><td>199</td><td>1</td><td>1</td><td>162</td><td>0</td><td>0.5</td><td>2</td><td>0</td><td>3</td><td>1</td></tr>\n",
       "\t<tr><td>1</td><td>49</td><td>1</td><td>1</td><td>130</td><td>266</td><td>0</td><td>1</td><td>171</td><td>0</td><td>0.6</td><td>2</td><td>0</td><td>2</td><td>1</td></tr>\n",
       "\t<tr><td>1</td><td>44</td><td>1</td><td>2</td><td>130</td><td>233</td><td>0</td><td>1</td><td>179</td><td>1</td><td>0.4</td><td>2</td><td>0</td><td>2</td><td>1</td></tr>\n",
       "\t<tr><td>1</td><td>61</td><td>1</td><td>2</td><td>150</td><td>243</td><td>1</td><td>1</td><td>137</td><td>1</td><td>1.0</td><td>1</td><td>0</td><td>2</td><td>1</td></tr>\n",
       "\t<tr><td>1</td><td>53</td><td>1</td><td>2</td><td>130</td><td>197</td><td>1</td><td>0</td><td>152</td><td>0</td><td>1.2</td><td>0</td><td>0</td><td>2</td><td>1</td></tr>\n",
       "\t<tr><td>1</td><td>39</td><td>1</td><td>2</td><td>140</td><td>321</td><td>0</td><td>0</td><td>182</td><td>0</td><td>0.0</td><td>2</td><td>0</td><td>2</td><td>1</td></tr>\n",
       "\t<tr><td>1</td><td>44</td><td>1</td><td>2</td><td>140</td><td>235</td><td>0</td><td>0</td><td>180</td><td>0</td><td>0.0</td><td>2</td><td>0</td><td>2</td><td>1</td></tr>\n",
       "\t<tr><td>1</td><td>47</td><td>1</td><td>2</td><td>138</td><td>257</td><td>0</td><td>0</td><td>156</td><td>0</td><td>0.0</td><td>2</td><td>0</td><td>2</td><td>1</td></tr>\n",
       "\t<tr><td>0</td><td>53</td><td>0</td><td>2</td><td>128</td><td>216</td><td>0</td><td>0</td><td>115</td><td>0</td><td>0.0</td><td>2</td><td>0</td><td>0</td><td>1</td></tr>\n",
       "\t<tr><td>1</td><td>53</td><td>0</td><td>0</td><td>138</td><td>234</td><td>0</td><td>0</td><td>160</td><td>0</td><td>0.0</td><td>2</td><td>0</td><td>2</td><td>1</td></tr>\n",
       "\t<tr><td>1</td><td>34</td><td>1</td><td>3</td><td>118</td><td>182</td><td>0</td><td>0</td><td>174</td><td>0</td><td>0.0</td><td>2</td><td>0</td><td>2</td><td>1</td></tr>\n",
       "\t<tr><td>1</td><td>54</td><td>1</td><td>2</td><td>120</td><td>258</td><td>0</td><td>0</td><td>147</td><td>0</td><td>0.4</td><td>1</td><td>0</td><td>3</td><td>1</td></tr>\n",
       "\t<tr><td>1</td><td>51</td><td>1</td><td>2</td><td> 94</td><td>227</td><td>0</td><td>1</td><td>154</td><td>1</td><td>0.0</td><td>2</td><td>1</td><td>3</td><td>1</td></tr>\n",
       "\t<tr><td>1</td><td>43</td><td>0</td><td>2</td><td>122</td><td>213</td><td>0</td><td>1</td><td>165</td><td>0</td><td>0.2</td><td>1</td><td>0</td><td>2</td><td>1</td></tr>\n",
       "\t<tr><td>1</td><td>58</td><td>1</td><td>2</td><td>105</td><td>240</td><td>0</td><td>0</td><td>154</td><td>1</td><td>0.6</td><td>1</td><td>0</td><td>3</td><td>1</td></tr>\n",
       "\t<tr><td>1</td><td>52</td><td>1</td><td>3</td><td>152</td><td>298</td><td>1</td><td>1</td><td>178</td><td>0</td><td>1.2</td><td>1</td><td>0</td><td>3</td><td>1</td></tr>\n",
       "\t<tr><td>1</td><td>48</td><td>1</td><td>2</td><td>124</td><td>255</td><td>1</td><td>1</td><td>175</td><td>0</td><td>0.0</td><td>2</td><td>2</td><td>2</td><td>1</td></tr>\n",
       "\t<tr><td>1</td><td>52</td><td>1</td><td>2</td><td>138</td><td>223</td><td>0</td><td>1</td><td>169</td><td>0</td><td>0.0</td><td>2</td><td>4</td><td>2</td><td>1</td></tr>\n",
       "\t<tr><td>1</td><td>45</td><td>0</td><td>1</td><td>112</td><td>160</td><td>0</td><td>1</td><td>138</td><td>0</td><td>0.0</td><td>1</td><td>0</td><td>2</td><td>1</td></tr>\n",
       "\t<tr><td>1</td><td>62</td><td>0</td><td>0</td><td>140</td><td>394</td><td>0</td><td>0</td><td>157</td><td>0</td><td>1.2</td><td>1</td><td>0</td><td>2</td><td>1</td></tr>\n",
       "\t<tr><td>0</td><td>59</td><td>1</td><td>3</td><td>178</td><td>270</td><td>0</td><td>0</td><td>145</td><td>0</td><td>4.2</td><td>0</td><td>0</td><td>3</td><td>1</td></tr>\n",
       "\t<tr><td>1</td><td>42</td><td>1</td><td>2</td><td>120</td><td>240</td><td>1</td><td>1</td><td>194</td><td>0</td><td>0.8</td><td>0</td><td>0</td><td>3</td><td>1</td></tr>\n",
       "\t<tr><td>1</td><td>45</td><td>0</td><td>0</td><td>138</td><td>236</td><td>0</td><td>0</td><td>152</td><td>1</td><td>0.2</td><td>1</td><td>0</td><td>2</td><td>1</td></tr>\n",
       "\t<tr><td>1</td><td>50</td><td>0</td><td>1</td><td>120</td><td>244</td><td>0</td><td>1</td><td>162</td><td>0</td><td>1.1</td><td>2</td><td>0</td><td>2</td><td>1</td></tr>\n",
       "\t<tr><td>1</td><td>64</td><td>0</td><td>0</td><td>180</td><td>325</td><td>0</td><td>1</td><td>154</td><td>1</td><td>0.0</td><td>2</td><td>0</td><td>2</td><td>1</td></tr>\n",
       "\t<tr><td>1</td><td>43</td><td>1</td><td>0</td><td>110</td><td>211</td><td>0</td><td>1</td><td>161</td><td>0</td><td>0.0</td><td>2</td><td>0</td><td>3</td><td>1</td></tr>\n",
       "\t<tr><td>1</td><td>41</td><td>1</td><td>2</td><td>130</td><td>214</td><td>0</td><td>0</td><td>168</td><td>0</td><td>2.0</td><td>1</td><td>0</td><td>2</td><td>1</td></tr>\n",
       "\t<tr><td>1</td><td>41</td><td>0</td><td>2</td><td>112</td><td>268</td><td>0</td><td>0</td><td>172</td><td>1</td><td>0.0</td><td>2</td><td>0</td><td>2</td><td>1</td></tr>\n",
       "\t<tr><td>⋮</td><td>⋮</td><td>⋮</td><td>⋮</td><td>⋮</td><td>⋮</td><td>⋮</td><td>⋮</td><td>⋮</td><td>⋮</td><td>⋮</td><td>⋮</td><td>⋮</td><td>⋮</td><td>⋮</td></tr>\n",
       "\t<tr><td>1</td><td>60</td><td>1</td><td>0</td><td>130</td><td>253</td><td>0</td><td>1</td><td>144</td><td>1</td><td>1.4</td><td>2</td><td>1</td><td>3</td><td>0</td></tr>\n",
       "\t<tr><td>1</td><td>41</td><td>1</td><td>0</td><td>110</td><td>172</td><td>0</td><td>0</td><td>158</td><td>0</td><td>0.0</td><td>2</td><td>0</td><td>3</td><td>0</td></tr>\n",
       "\t<tr><td>0</td><td>68</td><td>1</td><td>2</td><td>180</td><td>274</td><td>1</td><td>0</td><td>150</td><td>1</td><td>1.6</td><td>1</td><td>0</td><td>3</td><td>0</td></tr>\n",
       "\t<tr><td>1</td><td>59</td><td>1</td><td>0</td><td>140</td><td>177</td><td>0</td><td>1</td><td>162</td><td>1</td><td>0.0</td><td>2</td><td>1</td><td>3</td><td>0</td></tr>\n",
       "\t<tr><td>1</td><td>56</td><td>1</td><td>0</td><td>125</td><td>249</td><td>1</td><td>0</td><td>144</td><td>1</td><td>1.2</td><td>1</td><td>1</td><td>2</td><td>0</td></tr>\n",
       "\t<tr><td>0</td><td>65</td><td>1</td><td>0</td><td>135</td><td>254</td><td>0</td><td>0</td><td>127</td><td>0</td><td>2.8</td><td>1</td><td>1</td><td>3</td><td>0</td></tr>\n",
       "\t<tr><td>1</td><td>48</td><td>1</td><td>0</td><td>130</td><td>256</td><td>1</td><td>0</td><td>150</td><td>1</td><td>0.0</td><td>2</td><td>2</td><td>3</td><td>0</td></tr>\n",
       "\t<tr><td>0</td><td>63</td><td>0</td><td>0</td><td>150</td><td>407</td><td>0</td><td>0</td><td>154</td><td>0</td><td>4.0</td><td>1</td><td>3</td><td>3</td><td>0</td></tr>\n",
       "\t<tr><td>0</td><td>35</td><td>1</td><td>0</td><td>120</td><td>198</td><td>0</td><td>1</td><td>130</td><td>1</td><td>1.6</td><td>1</td><td>0</td><td>3</td><td>0</td></tr>\n",
       "\t<tr><td>1</td><td>47</td><td>1</td><td>2</td><td>108</td><td>243</td><td>0</td><td>1</td><td>152</td><td>0</td><td>0.0</td><td>2</td><td>0</td><td>2</td><td>0</td></tr>\n",
       "\t<tr><td>1</td><td>55</td><td>1</td><td>0</td><td>160</td><td>289</td><td>0</td><td>0</td><td>145</td><td>1</td><td>0.8</td><td>1</td><td>1</td><td>3</td><td>0</td></tr>\n",
       "\t<tr><td>1</td><td>35</td><td>1</td><td>0</td><td>126</td><td>282</td><td>0</td><td>0</td><td>156</td><td>1</td><td>0.0</td><td>2</td><td>0</td><td>3</td><td>0</td></tr>\n",
       "\t<tr><td>1</td><td>56</td><td>0</td><td>0</td><td>134</td><td>409</td><td>0</td><td>0</td><td>150</td><td>1</td><td>1.9</td><td>1</td><td>2</td><td>3</td><td>0</td></tr>\n",
       "\t<tr><td>1</td><td>54</td><td>1</td><td>1</td><td>192</td><td>283</td><td>0</td><td>0</td><td>195</td><td>0</td><td>0.0</td><td>2</td><td>1</td><td>3</td><td>0</td></tr>\n",
       "\t<tr><td>0</td><td>62</td><td>0</td><td>0</td><td>138</td><td>294</td><td>1</td><td>1</td><td>106</td><td>0</td><td>1.9</td><td>1</td><td>3</td><td>2</td><td>0</td></tr>\n",
       "\t<tr><td>1</td><td>67</td><td>1</td><td>0</td><td>100</td><td>299</td><td>0</td><td>0</td><td>125</td><td>1</td><td>0.9</td><td>1</td><td>2</td><td>2</td><td>0</td></tr>\n",
       "\t<tr><td>0</td><td>58</td><td>1</td><td>0</td><td>128</td><td>259</td><td>0</td><td>0</td><td>130</td><td>1</td><td>3.0</td><td>1</td><td>2</td><td>3</td><td>0</td></tr>\n",
       "\t<tr><td>1</td><td>62</td><td>0</td><td>0</td><td>150</td><td>244</td><td>0</td><td>1</td><td>154</td><td>1</td><td>1.4</td><td>1</td><td>0</td><td>2</td><td>0</td></tr>\n",
       "\t<tr><td>1</td><td>38</td><td>1</td><td>3</td><td>120</td><td>231</td><td>0</td><td>1</td><td>182</td><td>1</td><td>3.8</td><td>1</td><td>0</td><td>3</td><td>0</td></tr>\n",
       "\t<tr><td>1</td><td>66</td><td>1</td><td>0</td><td>112</td><td>212</td><td>0</td><td>0</td><td>132</td><td>1</td><td>0.1</td><td>2</td><td>1</td><td>2</td><td>0</td></tr>\n",
       "\t<tr><td>0</td><td>55</td><td>0</td><td>0</td><td>180</td><td>327</td><td>0</td><td>2</td><td>117</td><td>1</td><td>3.4</td><td>1</td><td>0</td><td>2</td><td>0</td></tr>\n",
       "\t<tr><td>0</td><td>54</td><td>1</td><td>0</td><td>122</td><td>286</td><td>0</td><td>0</td><td>116</td><td>1</td><td>3.2</td><td>1</td><td>2</td><td>2</td><td>0</td></tr>\n",
       "\t<tr><td>0</td><td>61</td><td>1</td><td>3</td><td>134</td><td>234</td><td>0</td><td>1</td><td>145</td><td>0</td><td>2.6</td><td>1</td><td>2</td><td>2</td><td>0</td></tr>\n",
       "\t<tr><td>0</td><td>42</td><td>1</td><td>0</td><td>136</td><td>315</td><td>0</td><td>1</td><td>125</td><td>1</td><td>1.8</td><td>1</td><td>0</td><td>1</td><td>0</td></tr>\n",
       "\t<tr><td>0</td><td>59</td><td>1</td><td>2</td><td>126</td><td>218</td><td>1</td><td>1</td><td>134</td><td>0</td><td>2.2</td><td>1</td><td>1</td><td>1</td><td>0</td></tr>\n",
       "\t<tr><td>0</td><td>58</td><td>1</td><td>0</td><td>114</td><td>318</td><td>0</td><td>2</td><td>140</td><td>0</td><td>4.4</td><td>0</td><td>3</td><td>1</td><td>0</td></tr>\n",
       "\t<tr><td>0</td><td>58</td><td>0</td><td>0</td><td>170</td><td>225</td><td>1</td><td>0</td><td>146</td><td>1</td><td>2.8</td><td>1</td><td>2</td><td>1</td><td>0</td></tr>\n",
       "\t<tr><td>1</td><td>67</td><td>1</td><td>2</td><td>152</td><td>212</td><td>0</td><td>0</td><td>150</td><td>0</td><td>0.8</td><td>1</td><td>0</td><td>3</td><td>0</td></tr>\n",
       "\t<tr><td>0</td><td>68</td><td>1</td><td>0</td><td>144</td><td>193</td><td>1</td><td>1</td><td>141</td><td>0</td><td>3.4</td><td>1</td><td>2</td><td>3</td><td>0</td></tr>\n",
       "\t<tr><td>1</td><td>57</td><td>0</td><td>1</td><td>130</td><td>236</td><td>0</td><td>0</td><td>174</td><td>0</td><td>0.0</td><td>1</td><td>1</td><td>2</td><td>0</td></tr>\n",
       "</tbody>\n",
       "</table>\n"
      ],
      "text/latex": [
       "A tibble: 77 × 15\n",
       "\\begin{tabular}{lllllllllllllll}\n",
       " .pred\\_class & age & sex & cp & trestbps & chol & fbs & restecg & thalach & exang & oldpeak & slope & ca & thal & diseased\\\\\n",
       " <fct> & <dbl> & <dbl> & <dbl> & <dbl> & <dbl> & <dbl> & <dbl> & <dbl> & <dbl> & <dbl> & <dbl> & <dbl> & <dbl> & <fct>\\\\\n",
       "\\hline\n",
       "\t 1 & 56 & 1 & 1 & 120 & 236 & 0 & 1 & 178 & 0 & 0.8 & 2 & 0 & 2 & 1\\\\\n",
       "\t 1 & 44 & 1 & 1 & 120 & 263 & 0 & 1 & 173 & 0 & 0.0 & 2 & 0 & 3 & 1\\\\\n",
       "\t 1 & 52 & 1 & 2 & 172 & 199 & 1 & 1 & 162 & 0 & 0.5 & 2 & 0 & 3 & 1\\\\\n",
       "\t 1 & 49 & 1 & 1 & 130 & 266 & 0 & 1 & 171 & 0 & 0.6 & 2 & 0 & 2 & 1\\\\\n",
       "\t 1 & 44 & 1 & 2 & 130 & 233 & 0 & 1 & 179 & 1 & 0.4 & 2 & 0 & 2 & 1\\\\\n",
       "\t 1 & 61 & 1 & 2 & 150 & 243 & 1 & 1 & 137 & 1 & 1.0 & 1 & 0 & 2 & 1\\\\\n",
       "\t 1 & 53 & 1 & 2 & 130 & 197 & 1 & 0 & 152 & 0 & 1.2 & 0 & 0 & 2 & 1\\\\\n",
       "\t 1 & 39 & 1 & 2 & 140 & 321 & 0 & 0 & 182 & 0 & 0.0 & 2 & 0 & 2 & 1\\\\\n",
       "\t 1 & 44 & 1 & 2 & 140 & 235 & 0 & 0 & 180 & 0 & 0.0 & 2 & 0 & 2 & 1\\\\\n",
       "\t 1 & 47 & 1 & 2 & 138 & 257 & 0 & 0 & 156 & 0 & 0.0 & 2 & 0 & 2 & 1\\\\\n",
       "\t 0 & 53 & 0 & 2 & 128 & 216 & 0 & 0 & 115 & 0 & 0.0 & 2 & 0 & 0 & 1\\\\\n",
       "\t 1 & 53 & 0 & 0 & 138 & 234 & 0 & 0 & 160 & 0 & 0.0 & 2 & 0 & 2 & 1\\\\\n",
       "\t 1 & 34 & 1 & 3 & 118 & 182 & 0 & 0 & 174 & 0 & 0.0 & 2 & 0 & 2 & 1\\\\\n",
       "\t 1 & 54 & 1 & 2 & 120 & 258 & 0 & 0 & 147 & 0 & 0.4 & 1 & 0 & 3 & 1\\\\\n",
       "\t 1 & 51 & 1 & 2 &  94 & 227 & 0 & 1 & 154 & 1 & 0.0 & 2 & 1 & 3 & 1\\\\\n",
       "\t 1 & 43 & 0 & 2 & 122 & 213 & 0 & 1 & 165 & 0 & 0.2 & 1 & 0 & 2 & 1\\\\\n",
       "\t 1 & 58 & 1 & 2 & 105 & 240 & 0 & 0 & 154 & 1 & 0.6 & 1 & 0 & 3 & 1\\\\\n",
       "\t 1 & 52 & 1 & 3 & 152 & 298 & 1 & 1 & 178 & 0 & 1.2 & 1 & 0 & 3 & 1\\\\\n",
       "\t 1 & 48 & 1 & 2 & 124 & 255 & 1 & 1 & 175 & 0 & 0.0 & 2 & 2 & 2 & 1\\\\\n",
       "\t 1 & 52 & 1 & 2 & 138 & 223 & 0 & 1 & 169 & 0 & 0.0 & 2 & 4 & 2 & 1\\\\\n",
       "\t 1 & 45 & 0 & 1 & 112 & 160 & 0 & 1 & 138 & 0 & 0.0 & 1 & 0 & 2 & 1\\\\\n",
       "\t 1 & 62 & 0 & 0 & 140 & 394 & 0 & 0 & 157 & 0 & 1.2 & 1 & 0 & 2 & 1\\\\\n",
       "\t 0 & 59 & 1 & 3 & 178 & 270 & 0 & 0 & 145 & 0 & 4.2 & 0 & 0 & 3 & 1\\\\\n",
       "\t 1 & 42 & 1 & 2 & 120 & 240 & 1 & 1 & 194 & 0 & 0.8 & 0 & 0 & 3 & 1\\\\\n",
       "\t 1 & 45 & 0 & 0 & 138 & 236 & 0 & 0 & 152 & 1 & 0.2 & 1 & 0 & 2 & 1\\\\\n",
       "\t 1 & 50 & 0 & 1 & 120 & 244 & 0 & 1 & 162 & 0 & 1.1 & 2 & 0 & 2 & 1\\\\\n",
       "\t 1 & 64 & 0 & 0 & 180 & 325 & 0 & 1 & 154 & 1 & 0.0 & 2 & 0 & 2 & 1\\\\\n",
       "\t 1 & 43 & 1 & 0 & 110 & 211 & 0 & 1 & 161 & 0 & 0.0 & 2 & 0 & 3 & 1\\\\\n",
       "\t 1 & 41 & 1 & 2 & 130 & 214 & 0 & 0 & 168 & 0 & 2.0 & 1 & 0 & 2 & 1\\\\\n",
       "\t 1 & 41 & 0 & 2 & 112 & 268 & 0 & 0 & 172 & 1 & 0.0 & 2 & 0 & 2 & 1\\\\\n",
       "\t ⋮ & ⋮ & ⋮ & ⋮ & ⋮ & ⋮ & ⋮ & ⋮ & ⋮ & ⋮ & ⋮ & ⋮ & ⋮ & ⋮ & ⋮\\\\\n",
       "\t 1 & 60 & 1 & 0 & 130 & 253 & 0 & 1 & 144 & 1 & 1.4 & 2 & 1 & 3 & 0\\\\\n",
       "\t 1 & 41 & 1 & 0 & 110 & 172 & 0 & 0 & 158 & 0 & 0.0 & 2 & 0 & 3 & 0\\\\\n",
       "\t 0 & 68 & 1 & 2 & 180 & 274 & 1 & 0 & 150 & 1 & 1.6 & 1 & 0 & 3 & 0\\\\\n",
       "\t 1 & 59 & 1 & 0 & 140 & 177 & 0 & 1 & 162 & 1 & 0.0 & 2 & 1 & 3 & 0\\\\\n",
       "\t 1 & 56 & 1 & 0 & 125 & 249 & 1 & 0 & 144 & 1 & 1.2 & 1 & 1 & 2 & 0\\\\\n",
       "\t 0 & 65 & 1 & 0 & 135 & 254 & 0 & 0 & 127 & 0 & 2.8 & 1 & 1 & 3 & 0\\\\\n",
       "\t 1 & 48 & 1 & 0 & 130 & 256 & 1 & 0 & 150 & 1 & 0.0 & 2 & 2 & 3 & 0\\\\\n",
       "\t 0 & 63 & 0 & 0 & 150 & 407 & 0 & 0 & 154 & 0 & 4.0 & 1 & 3 & 3 & 0\\\\\n",
       "\t 0 & 35 & 1 & 0 & 120 & 198 & 0 & 1 & 130 & 1 & 1.6 & 1 & 0 & 3 & 0\\\\\n",
       "\t 1 & 47 & 1 & 2 & 108 & 243 & 0 & 1 & 152 & 0 & 0.0 & 2 & 0 & 2 & 0\\\\\n",
       "\t 1 & 55 & 1 & 0 & 160 & 289 & 0 & 0 & 145 & 1 & 0.8 & 1 & 1 & 3 & 0\\\\\n",
       "\t 1 & 35 & 1 & 0 & 126 & 282 & 0 & 0 & 156 & 1 & 0.0 & 2 & 0 & 3 & 0\\\\\n",
       "\t 1 & 56 & 0 & 0 & 134 & 409 & 0 & 0 & 150 & 1 & 1.9 & 1 & 2 & 3 & 0\\\\\n",
       "\t 1 & 54 & 1 & 1 & 192 & 283 & 0 & 0 & 195 & 0 & 0.0 & 2 & 1 & 3 & 0\\\\\n",
       "\t 0 & 62 & 0 & 0 & 138 & 294 & 1 & 1 & 106 & 0 & 1.9 & 1 & 3 & 2 & 0\\\\\n",
       "\t 1 & 67 & 1 & 0 & 100 & 299 & 0 & 0 & 125 & 1 & 0.9 & 1 & 2 & 2 & 0\\\\\n",
       "\t 0 & 58 & 1 & 0 & 128 & 259 & 0 & 0 & 130 & 1 & 3.0 & 1 & 2 & 3 & 0\\\\\n",
       "\t 1 & 62 & 0 & 0 & 150 & 244 & 0 & 1 & 154 & 1 & 1.4 & 1 & 0 & 2 & 0\\\\\n",
       "\t 1 & 38 & 1 & 3 & 120 & 231 & 0 & 1 & 182 & 1 & 3.8 & 1 & 0 & 3 & 0\\\\\n",
       "\t 1 & 66 & 1 & 0 & 112 & 212 & 0 & 0 & 132 & 1 & 0.1 & 2 & 1 & 2 & 0\\\\\n",
       "\t 0 & 55 & 0 & 0 & 180 & 327 & 0 & 2 & 117 & 1 & 3.4 & 1 & 0 & 2 & 0\\\\\n",
       "\t 0 & 54 & 1 & 0 & 122 & 286 & 0 & 0 & 116 & 1 & 3.2 & 1 & 2 & 2 & 0\\\\\n",
       "\t 0 & 61 & 1 & 3 & 134 & 234 & 0 & 1 & 145 & 0 & 2.6 & 1 & 2 & 2 & 0\\\\\n",
       "\t 0 & 42 & 1 & 0 & 136 & 315 & 0 & 1 & 125 & 1 & 1.8 & 1 & 0 & 1 & 0\\\\\n",
       "\t 0 & 59 & 1 & 2 & 126 & 218 & 1 & 1 & 134 & 0 & 2.2 & 1 & 1 & 1 & 0\\\\\n",
       "\t 0 & 58 & 1 & 0 & 114 & 318 & 0 & 2 & 140 & 0 & 4.4 & 0 & 3 & 1 & 0\\\\\n",
       "\t 0 & 58 & 0 & 0 & 170 & 225 & 1 & 0 & 146 & 1 & 2.8 & 1 & 2 & 1 & 0\\\\\n",
       "\t 1 & 67 & 1 & 2 & 152 & 212 & 0 & 0 & 150 & 0 & 0.8 & 1 & 0 & 3 & 0\\\\\n",
       "\t 0 & 68 & 1 & 0 & 144 & 193 & 1 & 1 & 141 & 0 & 3.4 & 1 & 2 & 3 & 0\\\\\n",
       "\t 1 & 57 & 0 & 1 & 130 & 236 & 0 & 0 & 174 & 0 & 0.0 & 1 & 1 & 2 & 0\\\\\n",
       "\\end{tabular}\n"
      ],
      "text/markdown": [
       "\n",
       "A tibble: 77 × 15\n",
       "\n",
       "| .pred_class &lt;fct&gt; | age &lt;dbl&gt; | sex &lt;dbl&gt; | cp &lt;dbl&gt; | trestbps &lt;dbl&gt; | chol &lt;dbl&gt; | fbs &lt;dbl&gt; | restecg &lt;dbl&gt; | thalach &lt;dbl&gt; | exang &lt;dbl&gt; | oldpeak &lt;dbl&gt; | slope &lt;dbl&gt; | ca &lt;dbl&gt; | thal &lt;dbl&gt; | diseased &lt;fct&gt; |\n",
       "|---|---|---|---|---|---|---|---|---|---|---|---|---|---|---|\n",
       "| 1 | 56 | 1 | 1 | 120 | 236 | 0 | 1 | 178 | 0 | 0.8 | 2 | 0 | 2 | 1 |\n",
       "| 1 | 44 | 1 | 1 | 120 | 263 | 0 | 1 | 173 | 0 | 0.0 | 2 | 0 | 3 | 1 |\n",
       "| 1 | 52 | 1 | 2 | 172 | 199 | 1 | 1 | 162 | 0 | 0.5 | 2 | 0 | 3 | 1 |\n",
       "| 1 | 49 | 1 | 1 | 130 | 266 | 0 | 1 | 171 | 0 | 0.6 | 2 | 0 | 2 | 1 |\n",
       "| 1 | 44 | 1 | 2 | 130 | 233 | 0 | 1 | 179 | 1 | 0.4 | 2 | 0 | 2 | 1 |\n",
       "| 1 | 61 | 1 | 2 | 150 | 243 | 1 | 1 | 137 | 1 | 1.0 | 1 | 0 | 2 | 1 |\n",
       "| 1 | 53 | 1 | 2 | 130 | 197 | 1 | 0 | 152 | 0 | 1.2 | 0 | 0 | 2 | 1 |\n",
       "| 1 | 39 | 1 | 2 | 140 | 321 | 0 | 0 | 182 | 0 | 0.0 | 2 | 0 | 2 | 1 |\n",
       "| 1 | 44 | 1 | 2 | 140 | 235 | 0 | 0 | 180 | 0 | 0.0 | 2 | 0 | 2 | 1 |\n",
       "| 1 | 47 | 1 | 2 | 138 | 257 | 0 | 0 | 156 | 0 | 0.0 | 2 | 0 | 2 | 1 |\n",
       "| 0 | 53 | 0 | 2 | 128 | 216 | 0 | 0 | 115 | 0 | 0.0 | 2 | 0 | 0 | 1 |\n",
       "| 1 | 53 | 0 | 0 | 138 | 234 | 0 | 0 | 160 | 0 | 0.0 | 2 | 0 | 2 | 1 |\n",
       "| 1 | 34 | 1 | 3 | 118 | 182 | 0 | 0 | 174 | 0 | 0.0 | 2 | 0 | 2 | 1 |\n",
       "| 1 | 54 | 1 | 2 | 120 | 258 | 0 | 0 | 147 | 0 | 0.4 | 1 | 0 | 3 | 1 |\n",
       "| 1 | 51 | 1 | 2 |  94 | 227 | 0 | 1 | 154 | 1 | 0.0 | 2 | 1 | 3 | 1 |\n",
       "| 1 | 43 | 0 | 2 | 122 | 213 | 0 | 1 | 165 | 0 | 0.2 | 1 | 0 | 2 | 1 |\n",
       "| 1 | 58 | 1 | 2 | 105 | 240 | 0 | 0 | 154 | 1 | 0.6 | 1 | 0 | 3 | 1 |\n",
       "| 1 | 52 | 1 | 3 | 152 | 298 | 1 | 1 | 178 | 0 | 1.2 | 1 | 0 | 3 | 1 |\n",
       "| 1 | 48 | 1 | 2 | 124 | 255 | 1 | 1 | 175 | 0 | 0.0 | 2 | 2 | 2 | 1 |\n",
       "| 1 | 52 | 1 | 2 | 138 | 223 | 0 | 1 | 169 | 0 | 0.0 | 2 | 4 | 2 | 1 |\n",
       "| 1 | 45 | 0 | 1 | 112 | 160 | 0 | 1 | 138 | 0 | 0.0 | 1 | 0 | 2 | 1 |\n",
       "| 1 | 62 | 0 | 0 | 140 | 394 | 0 | 0 | 157 | 0 | 1.2 | 1 | 0 | 2 | 1 |\n",
       "| 0 | 59 | 1 | 3 | 178 | 270 | 0 | 0 | 145 | 0 | 4.2 | 0 | 0 | 3 | 1 |\n",
       "| 1 | 42 | 1 | 2 | 120 | 240 | 1 | 1 | 194 | 0 | 0.8 | 0 | 0 | 3 | 1 |\n",
       "| 1 | 45 | 0 | 0 | 138 | 236 | 0 | 0 | 152 | 1 | 0.2 | 1 | 0 | 2 | 1 |\n",
       "| 1 | 50 | 0 | 1 | 120 | 244 | 0 | 1 | 162 | 0 | 1.1 | 2 | 0 | 2 | 1 |\n",
       "| 1 | 64 | 0 | 0 | 180 | 325 | 0 | 1 | 154 | 1 | 0.0 | 2 | 0 | 2 | 1 |\n",
       "| 1 | 43 | 1 | 0 | 110 | 211 | 0 | 1 | 161 | 0 | 0.0 | 2 | 0 | 3 | 1 |\n",
       "| 1 | 41 | 1 | 2 | 130 | 214 | 0 | 0 | 168 | 0 | 2.0 | 1 | 0 | 2 | 1 |\n",
       "| 1 | 41 | 0 | 2 | 112 | 268 | 0 | 0 | 172 | 1 | 0.0 | 2 | 0 | 2 | 1 |\n",
       "| ⋮ | ⋮ | ⋮ | ⋮ | ⋮ | ⋮ | ⋮ | ⋮ | ⋮ | ⋮ | ⋮ | ⋮ | ⋮ | ⋮ | ⋮ |\n",
       "| 1 | 60 | 1 | 0 | 130 | 253 | 0 | 1 | 144 | 1 | 1.4 | 2 | 1 | 3 | 0 |\n",
       "| 1 | 41 | 1 | 0 | 110 | 172 | 0 | 0 | 158 | 0 | 0.0 | 2 | 0 | 3 | 0 |\n",
       "| 0 | 68 | 1 | 2 | 180 | 274 | 1 | 0 | 150 | 1 | 1.6 | 1 | 0 | 3 | 0 |\n",
       "| 1 | 59 | 1 | 0 | 140 | 177 | 0 | 1 | 162 | 1 | 0.0 | 2 | 1 | 3 | 0 |\n",
       "| 1 | 56 | 1 | 0 | 125 | 249 | 1 | 0 | 144 | 1 | 1.2 | 1 | 1 | 2 | 0 |\n",
       "| 0 | 65 | 1 | 0 | 135 | 254 | 0 | 0 | 127 | 0 | 2.8 | 1 | 1 | 3 | 0 |\n",
       "| 1 | 48 | 1 | 0 | 130 | 256 | 1 | 0 | 150 | 1 | 0.0 | 2 | 2 | 3 | 0 |\n",
       "| 0 | 63 | 0 | 0 | 150 | 407 | 0 | 0 | 154 | 0 | 4.0 | 1 | 3 | 3 | 0 |\n",
       "| 0 | 35 | 1 | 0 | 120 | 198 | 0 | 1 | 130 | 1 | 1.6 | 1 | 0 | 3 | 0 |\n",
       "| 1 | 47 | 1 | 2 | 108 | 243 | 0 | 1 | 152 | 0 | 0.0 | 2 | 0 | 2 | 0 |\n",
       "| 1 | 55 | 1 | 0 | 160 | 289 | 0 | 0 | 145 | 1 | 0.8 | 1 | 1 | 3 | 0 |\n",
       "| 1 | 35 | 1 | 0 | 126 | 282 | 0 | 0 | 156 | 1 | 0.0 | 2 | 0 | 3 | 0 |\n",
       "| 1 | 56 | 0 | 0 | 134 | 409 | 0 | 0 | 150 | 1 | 1.9 | 1 | 2 | 3 | 0 |\n",
       "| 1 | 54 | 1 | 1 | 192 | 283 | 0 | 0 | 195 | 0 | 0.0 | 2 | 1 | 3 | 0 |\n",
       "| 0 | 62 | 0 | 0 | 138 | 294 | 1 | 1 | 106 | 0 | 1.9 | 1 | 3 | 2 | 0 |\n",
       "| 1 | 67 | 1 | 0 | 100 | 299 | 0 | 0 | 125 | 1 | 0.9 | 1 | 2 | 2 | 0 |\n",
       "| 0 | 58 | 1 | 0 | 128 | 259 | 0 | 0 | 130 | 1 | 3.0 | 1 | 2 | 3 | 0 |\n",
       "| 1 | 62 | 0 | 0 | 150 | 244 | 0 | 1 | 154 | 1 | 1.4 | 1 | 0 | 2 | 0 |\n",
       "| 1 | 38 | 1 | 3 | 120 | 231 | 0 | 1 | 182 | 1 | 3.8 | 1 | 0 | 3 | 0 |\n",
       "| 1 | 66 | 1 | 0 | 112 | 212 | 0 | 0 | 132 | 1 | 0.1 | 2 | 1 | 2 | 0 |\n",
       "| 0 | 55 | 0 | 0 | 180 | 327 | 0 | 2 | 117 | 1 | 3.4 | 1 | 0 | 2 | 0 |\n",
       "| 0 | 54 | 1 | 0 | 122 | 286 | 0 | 0 | 116 | 1 | 3.2 | 1 | 2 | 2 | 0 |\n",
       "| 0 | 61 | 1 | 3 | 134 | 234 | 0 | 1 | 145 | 0 | 2.6 | 1 | 2 | 2 | 0 |\n",
       "| 0 | 42 | 1 | 0 | 136 | 315 | 0 | 1 | 125 | 1 | 1.8 | 1 | 0 | 1 | 0 |\n",
       "| 0 | 59 | 1 | 2 | 126 | 218 | 1 | 1 | 134 | 0 | 2.2 | 1 | 1 | 1 | 0 |\n",
       "| 0 | 58 | 1 | 0 | 114 | 318 | 0 | 2 | 140 | 0 | 4.4 | 0 | 3 | 1 | 0 |\n",
       "| 0 | 58 | 0 | 0 | 170 | 225 | 1 | 0 | 146 | 1 | 2.8 | 1 | 2 | 1 | 0 |\n",
       "| 1 | 67 | 1 | 2 | 152 | 212 | 0 | 0 | 150 | 0 | 0.8 | 1 | 0 | 3 | 0 |\n",
       "| 0 | 68 | 1 | 0 | 144 | 193 | 1 | 1 | 141 | 0 | 3.4 | 1 | 2 | 3 | 0 |\n",
       "| 1 | 57 | 0 | 1 | 130 | 236 | 0 | 0 | 174 | 0 | 0.0 | 1 | 1 | 2 | 0 |\n",
       "\n"
      ],
      "text/plain": [
       "   .pred_class age sex cp trestbps chol fbs restecg thalach exang oldpeak slope\n",
       "1  1           56  1   1  120      236  0   1       178     0     0.8     2    \n",
       "2  1           44  1   1  120      263  0   1       173     0     0.0     2    \n",
       "3  1           52  1   2  172      199  1   1       162     0     0.5     2    \n",
       "4  1           49  1   1  130      266  0   1       171     0     0.6     2    \n",
       "5  1           44  1   2  130      233  0   1       179     1     0.4     2    \n",
       "6  1           61  1   2  150      243  1   1       137     1     1.0     1    \n",
       "7  1           53  1   2  130      197  1   0       152     0     1.2     0    \n",
       "8  1           39  1   2  140      321  0   0       182     0     0.0     2    \n",
       "9  1           44  1   2  140      235  0   0       180     0     0.0     2    \n",
       "10 1           47  1   2  138      257  0   0       156     0     0.0     2    \n",
       "11 0           53  0   2  128      216  0   0       115     0     0.0     2    \n",
       "12 1           53  0   0  138      234  0   0       160     0     0.0     2    \n",
       "13 1           34  1   3  118      182  0   0       174     0     0.0     2    \n",
       "14 1           54  1   2  120      258  0   0       147     0     0.4     1    \n",
       "15 1           51  1   2   94      227  0   1       154     1     0.0     2    \n",
       "16 1           43  0   2  122      213  0   1       165     0     0.2     1    \n",
       "17 1           58  1   2  105      240  0   0       154     1     0.6     1    \n",
       "18 1           52  1   3  152      298  1   1       178     0     1.2     1    \n",
       "19 1           48  1   2  124      255  1   1       175     0     0.0     2    \n",
       "20 1           52  1   2  138      223  0   1       169     0     0.0     2    \n",
       "21 1           45  0   1  112      160  0   1       138     0     0.0     1    \n",
       "22 1           62  0   0  140      394  0   0       157     0     1.2     1    \n",
       "23 0           59  1   3  178      270  0   0       145     0     4.2     0    \n",
       "24 1           42  1   2  120      240  1   1       194     0     0.8     0    \n",
       "25 1           45  0   0  138      236  0   0       152     1     0.2     1    \n",
       "26 1           50  0   1  120      244  0   1       162     0     1.1     2    \n",
       "27 1           64  0   0  180      325  0   1       154     1     0.0     2    \n",
       "28 1           43  1   0  110      211  0   1       161     0     0.0     2    \n",
       "29 1           41  1   2  130      214  0   0       168     0     2.0     1    \n",
       "30 1           41  0   2  112      268  0   0       172     1     0.0     2    \n",
       "⋮  ⋮           ⋮   ⋮   ⋮  ⋮        ⋮    ⋮   ⋮       ⋮       ⋮     ⋮       ⋮    \n",
       "48 1           60  1   0  130      253  0   1       144     1     1.4     2    \n",
       "49 1           41  1   0  110      172  0   0       158     0     0.0     2    \n",
       "50 0           68  1   2  180      274  1   0       150     1     1.6     1    \n",
       "51 1           59  1   0  140      177  0   1       162     1     0.0     2    \n",
       "52 1           56  1   0  125      249  1   0       144     1     1.2     1    \n",
       "53 0           65  1   0  135      254  0   0       127     0     2.8     1    \n",
       "54 1           48  1   0  130      256  1   0       150     1     0.0     2    \n",
       "55 0           63  0   0  150      407  0   0       154     0     4.0     1    \n",
       "56 0           35  1   0  120      198  0   1       130     1     1.6     1    \n",
       "57 1           47  1   2  108      243  0   1       152     0     0.0     2    \n",
       "58 1           55  1   0  160      289  0   0       145     1     0.8     1    \n",
       "59 1           35  1   0  126      282  0   0       156     1     0.0     2    \n",
       "60 1           56  0   0  134      409  0   0       150     1     1.9     1    \n",
       "61 1           54  1   1  192      283  0   0       195     0     0.0     2    \n",
       "62 0           62  0   0  138      294  1   1       106     0     1.9     1    \n",
       "63 1           67  1   0  100      299  0   0       125     1     0.9     1    \n",
       "64 0           58  1   0  128      259  0   0       130     1     3.0     1    \n",
       "65 1           62  0   0  150      244  0   1       154     1     1.4     1    \n",
       "66 1           38  1   3  120      231  0   1       182     1     3.8     1    \n",
       "67 1           66  1   0  112      212  0   0       132     1     0.1     2    \n",
       "68 0           55  0   0  180      327  0   2       117     1     3.4     1    \n",
       "69 0           54  1   0  122      286  0   0       116     1     3.2     1    \n",
       "70 0           61  1   3  134      234  0   1       145     0     2.6     1    \n",
       "71 0           42  1   0  136      315  0   1       125     1     1.8     1    \n",
       "72 0           59  1   2  126      218  1   1       134     0     2.2     1    \n",
       "73 0           58  1   0  114      318  0   2       140     0     4.4     0    \n",
       "74 0           58  0   0  170      225  1   0       146     1     2.8     1    \n",
       "75 1           67  1   2  152      212  0   0       150     0     0.8     1    \n",
       "76 0           68  1   0  144      193  1   1       141     0     3.4     1    \n",
       "77 1           57  0   1  130      236  0   0       174     0     0.0     1    \n",
       "   ca thal diseased\n",
       "1  0  2    1       \n",
       "2  0  3    1       \n",
       "3  0  3    1       \n",
       "4  0  2    1       \n",
       "5  0  2    1       \n",
       "6  0  2    1       \n",
       "7  0  2    1       \n",
       "8  0  2    1       \n",
       "9  0  2    1       \n",
       "10 0  2    1       \n",
       "11 0  0    1       \n",
       "12 0  2    1       \n",
       "13 0  2    1       \n",
       "14 0  3    1       \n",
       "15 1  3    1       \n",
       "16 0  2    1       \n",
       "17 0  3    1       \n",
       "18 0  3    1       \n",
       "19 2  2    1       \n",
       "20 4  2    1       \n",
       "21 0  2    1       \n",
       "22 0  2    1       \n",
       "23 0  3    1       \n",
       "24 0  3    1       \n",
       "25 0  2    1       \n",
       "26 0  2    1       \n",
       "27 0  2    1       \n",
       "28 0  3    1       \n",
       "29 0  2    1       \n",
       "30 0  2    1       \n",
       "⋮  ⋮  ⋮    ⋮       \n",
       "48 1  3    0       \n",
       "49 0  3    0       \n",
       "50 0  3    0       \n",
       "51 1  3    0       \n",
       "52 1  2    0       \n",
       "53 1  3    0       \n",
       "54 2  3    0       \n",
       "55 3  3    0       \n",
       "56 0  3    0       \n",
       "57 0  2    0       \n",
       "58 1  3    0       \n",
       "59 0  3    0       \n",
       "60 2  3    0       \n",
       "61 1  3    0       \n",
       "62 3  2    0       \n",
       "63 2  2    0       \n",
       "64 2  3    0       \n",
       "65 0  2    0       \n",
       "66 0  3    0       \n",
       "67 1  2    0       \n",
       "68 0  2    0       \n",
       "69 2  2    0       \n",
       "70 2  2    0       \n",
       "71 0  1    0       \n",
       "72 1  1    0       \n",
       "73 3  1    0       \n",
       "74 2  1    0       \n",
       "75 0  3    0       \n",
       "76 2  3    0       \n",
       "77 1  2    0       "
      ]
     },
     "metadata": {},
     "output_type": "display_data"
    }
   ],
   "source": [
    "heart_test_predictions |>\n",
    "  metrics(truth = diseased, estimate = .pred_class) |>\n",
    "  filter(.metric == \"accuracy\")\n",
    "heart_test_predictions"
   ]
  },
  {
   "cell_type": "markdown",
   "id": "bbc2b687-bef1-47a5-88a2-bd3ba5af7b1b",
   "metadata": {},
   "source": [
    "Confusion matrix was generated to calculate precision and recall. Recall is 92.86%. Precision is 68.42%. "
   ]
  },
  {
   "cell_type": "code",
   "execution_count": 10,
   "id": "27f38869-bae5-48e3-8212-b1a05c20eef8",
   "metadata": {
    "tags": []
   },
   "outputs": [
    {
     "data": {
      "text/plain": [
       "          Truth\n",
       "Prediction  0  1\n",
       "         0 17  3\n",
       "         1 18 39"
      ]
     },
     "metadata": {},
     "output_type": "display_data"
    }
   ],
   "source": [
    "confusion <- heart_test_predictions |>\n",
    "             conf_mat(truth = diseased, estimate = .pred_class)\n",
    "confusion"
   ]
  },
  {
   "cell_type": "markdown",
   "id": "78992dda-fb88-4d03-a2c9-eaefd4d588f8",
   "metadata": {},
   "source": [
    "The confusion matrix for the classifier was then analyzed. The matrix shows 17 observations correctly classified as absent, and 39 were correctly classified as present. Some classifier mistakes are shown, classifying 18 observations as present when truly absent and 3 observations as absent when truly present. \n",
    "\n",
    "(1 = present 0 = absent)"
   ]
  },
  {
   "cell_type": "code",
   "execution_count": null,
   "id": "4b5bd2b2-299e-407f-8bac-ff839f2d35cd",
   "metadata": {
    "tags": []
   },
   "outputs": [],
   "source": [
    "heart_proportions <- heart_train |>\n",
    "                      group_by(diseased) |>\n",
    "                      summarize(n = n()) |>\n",
    "                      mutate(percent = 100*n/nrow(heart_train))\n",
    "heart_proportions"
   ]
  },
  {
   "cell_type": "markdown",
   "id": "c6ade37b-fc62-4b25-b284-5e7e7e7fdd97",
   "metadata": {
    "tags": []
   },
   "source": [
    "# References\n",
    "\n",
    "Blue, G. M., Kirk, E. P., Sholler, G. F., Harvey, R. P., & Winlaw, D. S. (2012). Congenital heart disease: Current knowledge about causes and inheritance. *Medical Journal of Australia, 197*(3). [Read Article](https://www.mja.com.au/journal/2012/197/3/congenital-heart-disease-current-knowledge-about-causes-and-inheritance)\n",
    "\n",
    "Finegold, J. A., Asaria, P., & Francis, D. P. (2013). Mortality from ischaemic heart disease by country, region, and age: Statistics from World Health Organisation and United Nations. *International Journal of Cardiology, 168*(2), 934–945. [DOI: 10.1016/j.ijcard.2012.10.046](https://doi.org/10.1016/j.ijcard.2012.10.046)\n",
    "\n",
    "Sun, R., Liu, M., Lu, L., Zheng, Y., & Zhang, P. (2015). Congenital Heart Disease: Causes, Diagnosis, Symptoms, and Treatments. *Cell Biochemistry and Biophysics, 72*(3), 857–860. [DOI: 10.1007/s12013-015-0551-6](https://doi.org/10.1007/s12013-015-0551-6)\n",
    "\n",
    "Peng, T. T., Trevor Campbell, and Melissa Lee Foreword by Roger. (2023). *Data Science*. In [datasciencebook.ca](https://datasciencebook.ca/). [CC BY-NC-SA 4.0 License](https://creativecommons.org/licenses/by-nc-sa/4.0/). [Read Online](https://datasciencebook.ca/index.html)\n",
    "\n",
    "UCI Machine Learning Repository. (n.d.). [Archive.ics.uci.edu](https://archive.ics.uci.edu/dataset/45/heart+disease).\n"
   ]
  },
  {
   "cell_type": "code",
   "execution_count": null,
   "id": "24100bc6-34ca-4b8d-8146-9580fd3f5633",
   "metadata": {},
   "outputs": [],
   "source": []
  }
 ],
 "metadata": {
  "kernelspec": {
   "display_name": "R",
   "language": "R",
   "name": "ir"
  },
  "language_info": {
   "codemirror_mode": "r",
   "file_extension": ".r",
   "mimetype": "text/x-r-source",
   "name": "R",
   "pygments_lexer": "r",
   "version": "4.2.2"
  }
 },
 "nbformat": 4,
 "nbformat_minor": 5
}
